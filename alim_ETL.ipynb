{
 "cells": [
  {
   "cell_type": "code",
   "execution_count": 1,
   "metadata": {},
   "outputs": [
    {
     "name": "stdout",
     "output_type": "stream",
     "text": [
      "Collection(Database(MongoClient(host=['161.35.53.173:27017'], document_class=dict, tz_aware=False, connect=True, authsource='covid'), 'covid'), 'tweets')\n"
     ]
    }
   ],
   "source": [
    "import pymongo\n",
    "from pymongo import MongoClient\n",
    "import matplotlib.pyplot as plt\n",
    "import pandas as pd\n",
    "import scipy.stats as st\n",
    "import numpy as np\n",
    "import matplotlib.patheffects as path_effects\n",
    "\n",
    "# You can leave this alone. It connects you to the database.\n",
    "client = MongoClient('161.35.53.173',\n",
    "                     27017,\n",
    "                     authSource='covid',\n",
    "                     username='student',\n",
    "                     password='dogsnotcats')  # See the week 14 video for the password\n",
    "db = client['covid']\n",
    "covidtweets = db['tweets']\n",
    "print (covidtweets)\n",
    "\n"
   ]
  },
  {
   "cell_type": "code",
   "execution_count": 2,
   "metadata": {},
   "outputs": [],
   "source": [
    "def search(query={}):\n",
    "    \"\"\"Searches Dr. Allen's COVID Tweets DB and returns a PyMongo cursor\"\"\"\n",
    "    \n",
    "    try:\n",
    "        results = covidtweets.find(query)\n",
    "    except:\n",
    "        print(\"Could not execute query.\")\n",
    "        sys.exit()\n",
    "    else:\n",
    "        return results\n",
    "\n",
    "\n",
    "def sample(samplesize=1):\n",
    "    \"\"\"Returns a random sample of tweets of the size past, or 1.\"\"\"\n",
    "    \n",
    "    results = covidtweets.aggregate([{'$sample': {'size': samplesize}}])\n",
    "    allowDiskUse:true\n",
    "    return results\n",
    "\n",
    "# SEARCHING FOR TWEETS\n",
    "# Pass a dict to define query or you'll search all 1mil tweets.\n",
    "# Comment out the line below if you're using the sample method.\n",
    "data = search()\n",
    "\n",
    "\n",
    "data = sample(50000)"
   ]
  },
  {
   "cell_type": "code",
   "execution_count": 3,
   "metadata": {},
   "outputs": [],
   "source": [
    "\n",
    "\n",
    "x1= []\n",
    "x2= []\n",
    "x3= []\n",
    "\n",
    "\n",
    "for x in data:\n",
    "    x1.append(x['created_at'])\n",
    "    x2.append(x['id'])\n",
    "    x3.append(x['full_text'])\n",
    "\n",
    "    \n",
    "time_stamp = []\n",
    "user_id = []\n",
    "tweet = []\n",
    "\n",
    "for x in range(len(x3)):\n",
    "    if \"covid\" in x3[x]:\n",
    "        time_stamp.append(x1[x])\n",
    "        user_id.append(x2[x])\n",
    "        tweet.append(x3[x])\n",
    "    elif \"effects\" in x3[x]:\n",
    "        time_stamp.append(x1[x])\n",
    "        user_id.append(x2[x])\n",
    "        tweet.append(x3[x])\n",
    "    elif \"recovery\" in x3[x]:\n",
    "        time_stamp.append(x1[x])\n",
    "        user_id.append(x2[x])\n",
    "        tweet.append(x3[x])\n",
    "    elif \"health\" in x3[x]:\n",
    "        time_stamp.append(x1[x])\n",
    "        user_id.append(x2[x])\n",
    "        tweet.append(x3[x])"
   ]
  },
  {
   "cell_type": "code",
   "execution_count": 5,
   "metadata": {},
   "outputs": [
    {
     "data": {
      "text/html": [
       "<div>\n",
       "<style scoped>\n",
       "    .dataframe tbody tr th:only-of-type {\n",
       "        vertical-align: middle;\n",
       "    }\n",
       "\n",
       "    .dataframe tbody tr th {\n",
       "        vertical-align: top;\n",
       "    }\n",
       "\n",
       "    .dataframe thead th {\n",
       "        text-align: right;\n",
       "    }\n",
       "</style>\n",
       "<table border=\"1\" class=\"dataframe\">\n",
       "  <thead>\n",
       "    <tr style=\"text-align: right;\">\n",
       "      <th></th>\n",
       "      <th>Time Stamp</th>\n",
       "      <th>User ID</th>\n",
       "      <th>Tweet</th>\n",
       "    </tr>\n",
       "  </thead>\n",
       "  <tbody>\n",
       "    <tr>\n",
       "      <td>0</td>\n",
       "      <td>Thu Jan 23 12:32:56 +0000 2020</td>\n",
       "      <td>1220323530325331973</td>\n",
       "      <td>RT @MonitoringA3M: Epidemic, Level 4, Outbreak...</td>\n",
       "    </tr>\n",
       "    <tr>\n",
       "      <td>1</td>\n",
       "      <td>Fri Mar 13 03:51:27 +0000 2020</td>\n",
       "      <td>1238311687473659904</td>\n",
       "      <td>RT @thederekminor: All that.... “You’ll be fin...</td>\n",
       "    </tr>\n",
       "    <tr>\n",
       "      <td>2</td>\n",
       "      <td>Thu Mar 19 21:58:36 +0000 2020</td>\n",
       "      <td>1240759602611961857</td>\n",
       "      <td>RT @IgnacioBCamposE: Cómic sobre el uso de cub...</td>\n",
       "    </tr>\n",
       "    <tr>\n",
       "      <td>3</td>\n",
       "      <td>Sat Mar 21 10:30:45 +0000 2020</td>\n",
       "      <td>1241311277915361280</td>\n",
       "      <td>RT @ANI: Ministry of Railways: 8 passengers wh...</td>\n",
       "    </tr>\n",
       "    <tr>\n",
       "      <td>4</td>\n",
       "      <td>Tue Mar 03 12:00:13 +0000 2020</td>\n",
       "      <td>1234810810679033856</td>\n",
       "      <td>RT @Strandjunker: So, Ivanka Trump gained 23 t...</td>\n",
       "    </tr>\n",
       "    <tr>\n",
       "      <td>...</td>\n",
       "      <td>...</td>\n",
       "      <td>...</td>\n",
       "      <td>...</td>\n",
       "    </tr>\n",
       "    <tr>\n",
       "      <td>95</td>\n",
       "      <td>Wed Mar 11 14:17:20 +0000 2020</td>\n",
       "      <td>1237744420637700097</td>\n",
       "      <td>RT @gmanews: BREAKING: Kinumpirma ng Departmen...</td>\n",
       "    </tr>\n",
       "    <tr>\n",
       "      <td>96</td>\n",
       "      <td>Fri Mar 13 09:23:50 +0000 2020</td>\n",
       "      <td>1238395335002574848</td>\n",
       "      <td>RT @champagne_unoo: class suspension because o...</td>\n",
       "    </tr>\n",
       "    <tr>\n",
       "      <td>97</td>\n",
       "      <td>Mon Mar 09 05:04:15 +0000 2020</td>\n",
       "      <td>1236880454474534917</td>\n",
       "      <td>RT @TenzingLamsang: 1/2 \\n\\nFor those civil se...</td>\n",
       "    </tr>\n",
       "    <tr>\n",
       "      <td>98</td>\n",
       "      <td>Mon Mar 23 11:23:14 +0000 2020</td>\n",
       "      <td>1242049261170237440</td>\n",
       "      <td>RT @bradshaaaw: Yesterday I knocked on my Tenn...</td>\n",
       "    </tr>\n",
       "    <tr>\n",
       "      <td>99</td>\n",
       "      <td>Fri Jan 24 06:50:39 +0000 2020</td>\n",
       "      <td>1220599780226678785</td>\n",
       "      <td>RT @Divyanshee_: It's been 24 days since 2020 ...</td>\n",
       "    </tr>\n",
       "  </tbody>\n",
       "</table>\n",
       "<p>100 rows × 3 columns</p>\n",
       "</div>"
      ],
      "text/plain": [
       "                        Time Stamp              User ID  \\\n",
       "0   Thu Jan 23 12:32:56 +0000 2020  1220323530325331973   \n",
       "1   Fri Mar 13 03:51:27 +0000 2020  1238311687473659904   \n",
       "2   Thu Mar 19 21:58:36 +0000 2020  1240759602611961857   \n",
       "3   Sat Mar 21 10:30:45 +0000 2020  1241311277915361280   \n",
       "4   Tue Mar 03 12:00:13 +0000 2020  1234810810679033856   \n",
       "..                             ...                  ...   \n",
       "95  Wed Mar 11 14:17:20 +0000 2020  1237744420637700097   \n",
       "96  Fri Mar 13 09:23:50 +0000 2020  1238395335002574848   \n",
       "97  Mon Mar 09 05:04:15 +0000 2020  1236880454474534917   \n",
       "98  Mon Mar 23 11:23:14 +0000 2020  1242049261170237440   \n",
       "99  Fri Jan 24 06:50:39 +0000 2020  1220599780226678785   \n",
       "\n",
       "                                                Tweet  \n",
       "0   RT @MonitoringA3M: Epidemic, Level 4, Outbreak...  \n",
       "1   RT @thederekminor: All that.... “You’ll be fin...  \n",
       "2   RT @IgnacioBCamposE: Cómic sobre el uso de cub...  \n",
       "3   RT @ANI: Ministry of Railways: 8 passengers wh...  \n",
       "4   RT @Strandjunker: So, Ivanka Trump gained 23 t...  \n",
       "..                                                ...  \n",
       "95  RT @gmanews: BREAKING: Kinumpirma ng Departmen...  \n",
       "96  RT @champagne_unoo: class suspension because o...  \n",
       "97  RT @TenzingLamsang: 1/2 \\n\\nFor those civil se...  \n",
       "98  RT @bradshaaaw: Yesterday I knocked on my Tenn...  \n",
       "99  RT @Divyanshee_: It's been 24 days since 2020 ...  \n",
       "\n",
       "[100 rows x 3 columns]"
      ]
     },
     "execution_count": 5,
     "metadata": {},
     "output_type": "execute_result"
    }
   ],
   "source": [
    "\n",
    "df= pd.DataFrame({'Time Stamp': x1,\n",
    "                'User ID': x2,\n",
    "                'Tweet':x3})\n",
    "\n",
    "\n",
    "df.head(100)\n",
    "\n",
    "#initiating the CSV file\n",
    "#df.to_csv(r'alim_coviddata.csv', index = False, header=True)"
   ]
  },
  {
   "cell_type": "code",
   "execution_count": 6,
   "metadata": {},
   "outputs": [
    {
     "data": {
      "text/plain": [
       "Time Stamp    986\n",
       "User ID       986\n",
       "Tweet         986\n",
       "dtype: int64"
      ]
     },
     "execution_count": 6,
     "metadata": {},
     "output_type": "execute_result"
    }
   ],
   "source": [
    "#Sorting by category\n",
    "covid19=df[df['Tweet'].str.contains(\"covid19\")]\n",
    "effects=df[df['Tweet'].str.contains(\"effects\")]\n",
    "recovery=df[df['Tweet'].str.contains(\"recovery\")]\n",
    "health=df[df['Tweet'].str.contains(\"health\")]\n",
    "\n",
    "# Sorting by Count\n",
    "covid19.count()\n",
    "effects.count()\n",
    "recovery.count()\n",
    "health.count()"
   ]
  },
  {
   "cell_type": "code",
   "execution_count": 7,
   "metadata": {},
   "outputs": [
    {
     "data": {
      "image/png": "[encoded data removed]",
      "text/plain": [
       "<Figure size 432x288 with 1 Axes>"
      ]
     },
     "metadata": {
      "needs_background": "light"
     },
     "output_type": "display_data"
    }
   ],
   "source": [
    "covid_count= 400\n",
    "effect_count=37\n",
    "recovery_count= 43\n",
    "health_count= 1103 #1103\n",
    "\n",
    "\n",
    "name = [ \"Effect\", \"Recovery\", \"Covid\", \"Health\"]\n",
    "numbers = [37, 43, 400, 1103]\n",
    "x_axis = np.arange(len(numbers))\n",
    "plt.xticks(x_axis, [\"#Effect\", \"#Recovery\", \"#Covid\", \"#Health\"])\n",
    "plt.title(\"Number of Tweets of Based on Hastags\")\n",
    "plt.xlabel(\"Hastags\")\n",
    "plt.ylabel(\"Data based on 50000 Tweets\")\n",
    "plt.grid(True)\n",
    "plt.bar(x_axis, numbers, color='Red', align=\"center\")\n",
    "plt.savefig(\"Tweets_bargraph.png\")"
   ]
  },
  {
   "cell_type": "code",
   "execution_count": 8,
   "metadata": {},
   "outputs": [
    {
     "data": {
      "text/html": [
       "<div>\n",
       "<style scoped>\n",
       "    .dataframe tbody tr th:only-of-type {\n",
       "        vertical-align: middle;\n",
       "    }\n",
       "\n",
       "    .dataframe tbody tr th {\n",
       "        vertical-align: top;\n",
       "    }\n",
       "\n",
       "    .dataframe thead th {\n",
       "        text-align: right;\n",
       "    }\n",
       "</style>\n",
       "<table border=\"1\" class=\"dataframe\">\n",
       "  <thead>\n",
       "    <tr style=\"text-align: right;\">\n",
       "      <th></th>\n",
       "      <th>Monday</th>\n",
       "      <th>Tuesday</th>\n",
       "      <th>Wednesday</th>\n",
       "      <th>Thursday</th>\n",
       "      <th>Friday</th>\n",
       "      <th>Saturday</th>\n",
       "      <th>Sunday</th>\n",
       "    </tr>\n",
       "  </thead>\n",
       "  <tbody>\n",
       "    <tr>\n",
       "      <td>0</td>\n",
       "      <td>6105</td>\n",
       "      <td>7122</td>\n",
       "      <td>7639</td>\n",
       "      <td>7679</td>\n",
       "      <td>6908</td>\n",
       "      <td>7543</td>\n",
       "      <td>7004</td>\n",
       "    </tr>\n",
       "  </tbody>\n",
       "</table>\n",
       "</div>"
      ],
      "text/plain": [
       "   Monday  Tuesday  Wednesday  Thursday  Friday  Saturday  Sunday\n",
       "0    6105     7122       7639      7679    6908      7543    7004"
      ]
     },
     "execution_count": 8,
     "metadata": {},
     "output_type": "execute_result"
    }
   ],
   "source": [
    "# Tweets by Days\n",
    "coviday1=df[df['Time Stamp'].str.contains(\"Mon\")] #Monday\n",
    "coviday2=df[df['Time Stamp'].str.contains(\"Tue\")] #Tuesday\n",
    "coviday3=df[df['Time Stamp'].str.contains(\"Wed\")] #Wednesday\n",
    "coviday4=df[df['Time Stamp'].str.contains(\"Thu\")] #Thursday\n",
    "coviday5=df[df['Time Stamp'].str.contains(\"Fri\")] #Friday\n",
    "coviday6=df[df['Time Stamp'].str.contains(\"Sat\")] #Saturday\n",
    "coviday7=df[df['Time Stamp'].str.contains(\"Sun\")] #Sunday\n",
    "\n",
    "coviday1.count() #counts for monday\n",
    "coviday2.count() #counts for tuesday\n",
    "coviday3.count() #counts for wednesday\n",
    "coviday4.count() #counts for thursday\n",
    "coviday5.count() #counts for friday\n",
    "coviday6.count() #counts for saturday\n",
    "coviday7.count() #counts for monday\n",
    "\n",
    "#Counts by days\n",
    "monday=6105\n",
    "tuesday=7122\n",
    "wednesday=7639\n",
    "thursday=7679\n",
    "friday=6908\n",
    "saturday=7543\n",
    "sunday=7004\n",
    "\n",
    "dayframe= pd.DataFrame({'Monday': [6105],\n",
    "                        'Tuesday': [7122],\n",
    "                       'Wednesday': [7639],\n",
    "                       'Thursday': [7679],\n",
    "                       'Friday': [6908],\n",
    "                       'Saturday': [7543],\n",
    "                       'Sunday': [7004]})\n",
    "\n",
    "\n",
    "dayframe"
   ]
  },
  {
   "cell_type": "code",
   "execution_count": 9,
   "metadata": {},
   "outputs": [
    {
     "data": {
      "image/png": "[encoded data removed]",
      "text/plain": [
       "<Figure size 432x288 with 1 Axes>"
      ]
     },
     "metadata": {
      "needs_background": "light"
     },
     "output_type": "display_data"
    }
   ],
   "source": [
    "#line plot based on days\n",
    "days = [\"Mon\",\"Tue\",\"Wed\",\"Thur\",\"Fri\",\"Sat\",\"Sun\"]\n",
    "days_numbers = [6105, 7122, 7639, 7679, 6908, 7543, 7004]\n",
    "plt.title(\"Number of Tweets of Based on Days\")\n",
    "plt.ylabel(\"Total Number of Tweets\")\n",
    "\n",
    "plt.xlabel(\"Linegraph based on 7 days\")\n",
    "plt.grid(True)\n",
    "plt.plot(days, days_numbers, '-gD',markersize= 10, linewidth=7.0, path_effects=[path_effects.SimpleLineShadow(),\n",
    "                       path_effects.Normal()], color='r')\n",
    "plt.savefig(\"tweet_linegraph.png\")"
   ]
  },
  {
   "cell_type": "code",
   "execution_count": 10,
   "metadata": {},
   "outputs": [],
   "source": [
    "#Counts by Months\n",
    "covidmon1=df[df['Time Stamp'].str.contains(\"Jan\")] #January\n",
    "covidmon2=df[df['Time Stamp'].str.contains(\"Feb\")] #February\n",
    "covidmon3=df[df['Time Stamp'].str.contains(\"Mar\")] #March\n",
    "covidmon4=df[df['Time Stamp'].str.contains(\"Apr\")] #April\n",
    "\n",
    "covidmon1.count() #counts for January\n",
    "covidmon2.count() #counts for February\n",
    "covidmon3.count() #counts for March\n",
    "covidmon4.count() #counts for April\n",
    "\n",
    "january=4265\n",
    "february=13623\n",
    "march=30799\n",
    "april=1313"
   ]
  },
  {
   "cell_type": "code",
   "execution_count": 11,
   "metadata": {},
   "outputs": [
    {
     "data": {
      "image/png": "[encoded data removed]",
      "text/plain": [
       "<Figure size 432x288 with 1 Axes>"
      ]
     },
     "metadata": {
      "needs_background": "light"
     },
     "output_type": "display_data"
    }
   ],
   "source": [
    "#Line plot based on months\n",
    "months = [\"January\",\"February\",\"March\",\"April\"]\n",
    "days_numbers = [4265, 13623, 30799, 1313]\n",
    "plt.title(\"Number of Tweets of Based on Months\")\n",
    "plt.ylabel(\"Monthly Tweets in Thousands\")\n",
    "plt.grid(True)\n",
    "plt.legend(\"Month\")\n",
    "plt.xlabel(\"Linegraph based on 4 Months\")\n",
    "\n",
    "plt.plot(months, days_numbers, '-gD', markersize= 10, linewidth=7.0, path_effects=[path_effects.SimpleLineShadow(),\n",
    "                       path_effects.Normal()], color='green')\n",
    "                                             \n",
    "plt.savefig(\"tweet_monthgraph.png\")"
   ]
  },
  {
   "cell_type": "code",
   "execution_count": null,
   "metadata": {},
   "outputs": [],
   "source": []
  }
 ],
 "metadata": {
  "kernelspec": {
   "display_name": "Python 3",
   "language": "python",
   "name": "python3"
  },
  "language_info": {
   "codemirror_mode": {
    "name": "ipython",
    "version": 3
   },
   "file_extension": ".py",
   "mimetype": "text/x-python",
   "name": "python",
   "nbconvert_exporter": "python",
   "pygments_lexer": "ipython3",
   "version": "3.7.4"
  }
 },
 "nbformat": 4,
 "nbformat_minor": 2
}
